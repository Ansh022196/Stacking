{
  "nbformat": 4,
  "nbformat_minor": 0,
  "metadata": {
    "colab": {
      "private_outputs": true,
      "provenance": []
    },
    "kernelspec": {
      "name": "python3",
      "display_name": "Python 3"
    },
    "language_info": {
      "name": "python"
    }
  },
  "cells": [
    {
      "cell_type": "code",
      "execution_count": null,
      "metadata": {
        "id": "JfEsUkxyV9l-"
      },
      "outputs": [],
      "source": [
        "import pandas as pd \n",
        "import numpy as np \n",
        "import matplotlib.pyplot as plt\n",
        "from sklearn.model_selection import train_test_split\n",
        "from sklearn.neighbors import KNeighborsClassifier\n",
        "from sklearn.preprocessing import StandardScaler\n",
        "from sklearn.model_selection import train_test_split , GridSearchCV\n",
        "from sklearn import tree\n",
        "from sklearn.svm import SVC\n",
        "from sklearn.ensemble import RandomForestClassifier"
      ]
    },
    {
      "cell_type": "code",
      "source": [
        "#  we will be using the  three model  namely m1 m2  and m3 "
      ],
      "metadata": {
        "id": "AZVZb8DiWFpa"
      },
      "execution_count": null,
      "outputs": []
    },
    {
      "cell_type": "code",
      "source": [
        "df=pd.read_csv('/content/winequality-red.csv')"
      ],
      "metadata": {
        "id": "UXDhZefdWLdN"
      },
      "execution_count": null,
      "outputs": []
    },
    {
      "cell_type": "code",
      "source": [
        "df"
      ],
      "metadata": {
        "id": "Uiw5q5RdWp7K"
      },
      "execution_count": null,
      "outputs": []
    },
    {
      "cell_type": "code",
      "source": [
        "x = df.drop(columns='quality')\n",
        "y = df.quality"
      ],
      "metadata": {
        "id": "kqHX0LYCWkW5"
      },
      "execution_count": null,
      "outputs": []
    },
    {
      "cell_type": "code",
      "source": [
        "train , val_train , test , val_test  = train_test_split(x,y,test_size = .50 , random_state = 30)"
      ],
      "metadata": {
        "id": "XJ1xRDecWwka"
      },
      "execution_count": null,
      "outputs": []
    },
    {
      "cell_type": "code",
      "source": [
        "x_train , x_test , y_train, y_test = train_test_split(train ,test,random_state = 30 , test_size = .20)"
      ],
      "metadata": {
        "id": "whr2oFLLWumZ"
      },
      "execution_count": null,
      "outputs": []
    },
    {
      "cell_type": "code",
      "source": [
        "knn1 = KNeighborsClassifier()"
      ],
      "metadata": {
        "id": "Z5qXD81DW3Xq"
      },
      "execution_count": null,
      "outputs": []
    },
    {
      "cell_type": "code",
      "source": [
        "knn1.fit(x_train,y_train)"
      ],
      "metadata": {
        "id": "AHMAKzA6W82a"
      },
      "execution_count": null,
      "outputs": []
    },
    {
      "cell_type": "code",
      "source": [
        "svc = SVC()\n",
        "svc.fit(x_train,y_train)"
      ],
      "metadata": {
        "id": "Es2JxzpNW-qz"
      },
      "execution_count": null,
      "outputs": []
    },
    {
      "cell_type": "code",
      "source": [
        "predcition_knn = knn1.predict(val_train)\n",
        "prediction_svc = svc.predict(val_train)"
      ],
      "metadata": {
        "id": "JIpu-eyuXLhT"
      },
      "execution_count": null,
      "outputs": []
    },
    {
      "cell_type": "code",
      "source": [
        "input = np.column_stack((predcition_knn,prediction_svc))"
      ],
      "metadata": {
        "id": "gb0Z9tYOXGdS"
      },
      "execution_count": null,
      "outputs": []
    },
    {
      "cell_type": "code",
      "source": [
        "output = val_test"
      ],
      "metadata": {
        "id": "b22vTt13Xd5i"
      },
      "execution_count": null,
      "outputs": []
    },
    {
      "cell_type": "code",
      "source": [
        "# now  this is the input  for our  thrid mmodel"
      ],
      "metadata": {
        "id": "dgon0rsPXfHK"
      },
      "execution_count": null,
      "outputs": []
    },
    {
      "cell_type": "code",
      "source": [
        "rf = RandomForestClassifier()"
      ],
      "metadata": {
        "id": "9Im4R5ZdXjli"
      },
      "execution_count": null,
      "outputs": []
    },
    {
      "cell_type": "code",
      "source": [
        "rf.fit(input,output)"
      ],
      "metadata": {
        "id": "jqo8LwRiXlzY"
      },
      "execution_count": null,
      "outputs": []
    },
    {
      "cell_type": "code",
      "source": [
        "knn_output = knn1.predict(x_test)\n",
        "svc_output = svc.predict(x_test)"
      ],
      "metadata": {
        "id": "afGC555-Xrfq"
      },
      "execution_count": null,
      "outputs": []
    },
    {
      "cell_type": "code",
      "source": [
        "output_stack1 = np.column_stack ((knn_output,svc_output))"
      ],
      "metadata": {
        "id": "dYd1-6MXX_ia"
      },
      "execution_count": null,
      "outputs": []
    },
    {
      "cell_type": "code",
      "source": [
        "rf.predict(output_stack1)"
      ],
      "metadata": {
        "id": "9JKgt6wrX_qb"
      },
      "execution_count": null,
      "outputs": []
    }
  ]
}